{
 "cells": [
  {
   "cell_type": "markdown",
   "id": "9d4e94cf-78a8-4362-ab2c-fc79a0949689",
   "metadata": {},
   "source": [
    "# Home Improvement Retail Financial Data Pipeline\n",
    "## Personal Project by Alana Ahart\n"
   ]
  },
  {
   "cell_type": "markdown",
   "id": "bb49f193-adc8-43de-b63f-b54823db3f7a",
   "metadata": {},
   "source": [
    "## Project Overview"
   ]
  },
  {
   "cell_type": "markdown",
   "id": "238734f1-64f2-4add-a534-37fcdda47973",
   "metadata": {},
   "source": [
    "### The goal of this project was to retrieve and analyze financial data for companies in the home improvement retail industry using the Financial Modeling Prep API. After collecting and preparing the data in Python, I designed an interactive Tableau dashboard that highlights key financial metrics, such as liquidity ratios and revenue trends, to assess the financial health of each company.\n"
   ]
  },
  {
   "cell_type": "markdown",
   "id": "73791c5c-91ec-4bf4-9610-aacc9ad0e863",
   "metadata": {},
   "source": [
    "## Tableau Dashboard\n",
    "\n",
    "[View the interactive dashboard on Tableau Public](https://public.tableau.com/views/HomeImprovement_17613366392310/Dashboard3?:language=en-US&:sid=&:redirect=auth&:display_count=n&:origin=viz_share_link)"
   ]
  },
  {
   "cell_type": "markdown",
   "id": "0b77df32-c274-49cb-8bd5-f925cf34fc7b",
   "metadata": {
    "jp-MarkdownHeadingCollapsed": true
   },
   "source": [
    "## Tools & Methods \n",
    "\n",
    "### Python & Jupyter Notebook\n",
    "- Used to connect to the **Financial Modeling Prep (FMP) API**\n",
    "- Extracted financial data \n",
    "- Cleaned and transformed data using `pandas` for compatibility with Tableau\n",
    "\n",
    "### Financial Modeling Prep API\n",
    "- Queried endpoints for:\n",
    "  - Company financial statements\n",
    "  - Key ratios (Current, Quick, Cash, Operating Cash Flow)\n",
    "- Parsed JSON responses into structured dataframes\n",
    "- Enabled dynamic data retrieval for multiple companies\n",
    "\n",
    "### Tableau Public\n",
    "- Imported cleaned data for visualization\n",
    "- Designed an **executive finance dashboard** featuring:\n",
    "  - KPI carousel for liquidity metrics\n",
    "  - Company level filtering and interactivity\n",
    "- Published the dashboard to Tableau Public for public access and sharing\n",
    "\n",
    "### Integration Workflow\n",
    "1. **Extract**: Pull financial data from FMP API using Python\n",
    "2. **Transform**: Clean and reshape data for analysis\n",
    "3. **Load**: Export to CSV and import into Tableau\n",
    "4. **Visualize**: Build interactive dashboard tailored for executive decision-making\n",
    "\n"
   ]
  },
  {
   "cell_type": "markdown",
   "id": "0cb8e66d-8295-4414-a72a-c954f71f1d71",
   "metadata": {},
   "source": [
    "## Companies Featured in This Project\n",
    "\n",
    "This analysis focuses on publicly traded companies in the home improvement retail industry. The financial data was sourced for the following tickers:\n",
    "\n",
    "- **HD** – The Home Depot  \n",
    "- **LOW** – Lowe's Companies  \n",
    "- **FND** – Floor & Decor Holdings  \n",
    "- **TTSH** – Tile Shop Holdings Inc.  \n",
    "- **HVT** – Haverty Furniture Companies  \n",
    "- **ARHS** – Arhaus Inc.  \n",
    "- **LIVE** – Live Ventures Incorporated  \n",
    "- **TBHC** – The Brand House Collective Inc.\n"
   ]
  },
  {
   "cell_type": "markdown",
   "id": "e3845b78-410c-4f1c-9717-71aaa508a4b7",
   "metadata": {},
   "source": [
    "Install requests, matplotlib, and pandas libraries. \n"
   ]
  },
  {
   "cell_type": "code",
   "execution_count": 1,
   "id": "1bc9705c-47d3-4b19-ac5a-0d1a5a07aff7",
   "metadata": {},
   "outputs": [
    {
     "name": "stdout",
     "output_type": "stream",
     "text": [
      "Requirement already satisfied: requests in /opt/anaconda3/lib/python3.13/site-packages (2.32.3)\n",
      "Requirement already satisfied: charset-normalizer<4,>=2 in /opt/anaconda3/lib/python3.13/site-packages (from requests) (3.3.2)\n",
      "Requirement already satisfied: idna<4,>=2.5 in /opt/anaconda3/lib/python3.13/site-packages (from requests) (3.7)\n",
      "Requirement already satisfied: urllib3<3,>=1.21.1 in /opt/anaconda3/lib/python3.13/site-packages (from requests) (2.3.0)\n",
      "Requirement already satisfied: certifi>=2017.4.17 in /opt/anaconda3/lib/python3.13/site-packages (from requests) (2025.8.3)\n",
      "Note: you may need to restart the kernel to use updated packages.\n"
     ]
    }
   ],
   "source": [
    "pip install requests\n"
   ]
  },
  {
   "cell_type": "code",
   "execution_count": 2,
   "id": "2d54ed90-4b9f-40e5-b4e3-14ef92765719",
   "metadata": {},
   "outputs": [],
   "source": [
    "import requests\n",
    "import matplotlib.pyplot as plt "
   ]
  },
  {
   "cell_type": "code",
   "execution_count": null,
   "id": "f01fad93-78e3-4c2f-afef-7839630ed55b",
   "metadata": {},
   "outputs": [],
   "source": [
    "import pandas as pd"
   ]
  },
  {
   "cell_type": "markdown",
   "id": "edc60783-b889-4110-ac53-589e44b22705",
   "metadata": {},
   "source": [
    "Open API key that has been saved to a text file. "
   ]
  },
  {
   "cell_type": "code",
   "execution_count": 10,
   "id": "78866253-e113-45e6-a50a-ebf7a0e7fff7",
   "metadata": {},
   "outputs": [],
   "source": [
    "api_key = open('key.txt', 'r').read()\n"
   ]
  },
  {
   "cell_type": "markdown",
   "id": "7604be87-d96b-4b9e-818f-435e01e08fb7",
   "metadata": {},
   "source": [
    "Extract company profiles from API and save to csv file. "
   ]
  },
  {
   "cell_type": "code",
   "execution_count": 13,
   "id": "be0163c3-f1b9-42f3-a6ca-e8c99ea031d7",
   "metadata": {},
   "outputs": [],
   "source": [
    "tickers = ['HD', 'LOW', 'FND', 'TBHC','TTSH','HVT','ARHS','LIVE']"
   ]
  },
  {
   "cell_type": "code",
   "execution_count": 8,
   "id": "88493f6b-b080-43b5-a336-1a6f20f89ffa",
   "metadata": {},
   "outputs": [],
   "source": [
    "all_profiles = []\n",
    "\n",
    "for ticker in tickers:\n",
    "    url = f'https://financialmodelingprep.com/stable/profile?symbol={ticker}&apikey={api_key}'\n",
    "    response = requests.get(url)\n",
    "    data = response.json()\n",
    "    if data:\n",
    "        all_profiles.extend(data)\n",
    "\n",
    "# Convert to DataFrame\n",
    "df_profiles = pd.DataFrame(all_profiles)\n",
    "df_profiles.columns = [col.lower().replace(' ', '_') for col in df_profiles.columns]\n"
   ]
  },
  {
   "cell_type": "code",
   "execution_count": 33,
   "id": "559d7e94-1447-488d-b900-bbe4d1943bd3",
   "metadata": {},
   "outputs": [
    {
     "name": "stdout",
     "output_type": "stream",
     "text": [
      "  symbol   price     marketcap   beta  lastdividend          range  change  \\\n",
      "0     HD  383.79  382019441252  1.001          9.15  326.31-439.37   -3.02   \n",
      "1    LOW  237.59  133245095977  0.880          4.65  206.39-287.01   -2.30   \n",
      "2    FND   70.50    7592248988  1.703          0.00    66.01-122.9    0.12   \n",
      "3   TBHC    1.72      38633579  1.916          0.00       1.05-2.5    0.05   \n",
      "4   TTSH    6.28     281101812  0.905          0.00      4.62-7.75   -0.01   \n",
      "\n",
      "   changepercentage   volume  averagevolume  ...         city state    zip  \\\n",
      "0          -0.78075  2410612        3528660  ...      Atlanta    GA  30339   \n",
      "1          -0.95877  1900077        2849704  ...  Mooresville    NC  28117   \n",
      "2           0.17050  2259293        2094337  ...      Atlanta    GA  30339   \n",
      "3           2.99401    83681         354609  ...    Brentwood    TN  37027   \n",
      "4          -0.15898   589863          43096  ...     Plymouth    MN  55441   \n",
      "\n",
      "                                               image     ipodate defaultimage  \\\n",
      "0  https://images.financialmodelingprep.com/symbo...  1981-09-22        False   \n",
      "1  https://images.financialmodelingprep.com/symbo...  1980-03-17        False   \n",
      "2  https://images.financialmodelingprep.com/symbo...  2017-04-27        False   \n",
      "3  https://images.financialmodelingprep.com/symbo...  2002-07-30         True   \n",
      "4  https://images.financialmodelingprep.com/symbo...  2012-08-22        False   \n",
      "\n",
      "   isetf isactivelytrading  isadr isfund  \n",
      "0  False              True  False  False  \n",
      "1  False              True  False  False  \n",
      "2  False              True  False  False  \n",
      "3  False              True  False  False  \n",
      "4  False              True  False  False  \n",
      "\n",
      "[5 rows x 36 columns]\n"
     ]
    }
   ],
   "source": [
    "print(df_profiles.head())"
   ]
  },
  {
   "cell_type": "code",
   "execution_count": 34,
   "id": "e5a879c6-e810-4659-a6b1-f3d6cb1af541",
   "metadata": {},
   "outputs": [],
   "source": [
    "#save to csv \n",
    "df_profiles.to_csv('home_improvement_profiles.csv', index=False)"
   ]
  },
  {
   "cell_type": "markdown",
   "id": "952580e4-07ae-42a2-bb7c-ff15c48b5401",
   "metadata": {},
   "source": [
    "Extract company financial scores and save to csv file. "
   ]
  },
  {
   "cell_type": "code",
   "execution_count": 10,
   "id": "1345ecee-cbb6-4390-b3e7-be5c97b0e796",
   "metadata": {},
   "outputs": [],
   "source": [
    "all_scores = []\n",
    "\n",
    "for ticker in tickers:\n",
    "    url = f'https://financialmodelingprep.com/stable/financial-scores?symbol={ticker}&apikey={api_key}'\n",
    "    response = requests.get(url)\n",
    "    data = response.json()\n",
    "    if data:\n",
    "        all_scores.extend(data)\n",
    "\n",
    "# Convert to DataFrame\n",
    "df_financial_scores = pd.DataFrame(all_scores)\n",
    "df_financial_scores.columns = [col.lower().replace(' ', '_') for col in df_financial_scores.columns]"
   ]
  },
  {
   "cell_type": "code",
   "execution_count": 35,
   "id": "a74b9c62-ec62-4bad-b26f-3fdecd7c2c75",
   "metadata": {
    "scrolled": true
   },
   "outputs": [
    {
     "name": "stdout",
     "output_type": "stream",
     "text": [
      "  symbol reportedcurrency  altmanzscore  piotroskiscore  workingcapital  \\\n",
      "0     HD              USD      6.423292               6      4545000000   \n",
      "1    LOW              USD      3.705499               7      1017000000   \n",
      "2    FND              USD      3.062168               7       315383000   \n",
      "3   TBHC              USD      0.028688               2       -25236000   \n",
      "4   TTSH              USD      2.028549               3        43490000   \n",
      "\n",
      "    totalassets  retainedearnings         ebit     marketcap  \\\n",
      "0  100049000000       92943000000  21680000000  402733437376   \n",
      "1   46614000000      -12108000000  10438000000  146031779710   \n",
      "2    5411247000        1734329000    272845000    7932554049   \n",
      "3     221930000        -228563000    -25449000      38633579   \n",
      "4     324110000          -6226000        35000     281773233   \n",
      "\n",
      "   totalliabilities       revenue  \n",
      "0       89384000000  165054000000  \n",
      "1       58014000000   83612000000  \n",
      "2        3116905000    4600232000  \n",
      "3         257091000     420610000  \n",
      "4         200233000     340228000  \n"
     ]
    }
   ],
   "source": [
    "print(df_financial_scores.head())"
   ]
  },
  {
   "cell_type": "code",
   "execution_count": 36,
   "id": "152e381a-8c75-48e9-8d05-eaa9352136bc",
   "metadata": {},
   "outputs": [],
   "source": [
    "df_financial_scores.to_csv('home_improvement_scores.csv', index=False)"
   ]
  },
  {
   "cell_type": "markdown",
   "id": "45c342f3-8aa7-406f-a3a6-9bbec45a5682",
   "metadata": {},
   "source": [
    "Extract company key metrics from API and save to csv file. "
   ]
  },
  {
   "cell_type": "code",
   "execution_count": 14,
   "id": "eb0a3cd9-aabd-4b98-8358-c52a4ccd5073",
   "metadata": {},
   "outputs": [],
   "source": [
    "all_key_metrics= []\n",
    "\n",
    "for ticker in tickers:\n",
    "    url = f'https://financialmodelingprep.com/stable/key-metrics?symbol={ticker}&apikey={api_key}'\n",
    "    response = requests.get(url)\n",
    "    data = response.json()\n",
    "    if data:\n",
    "        all_key_metrics.extend(data)\n",
    "\n",
    "# Convert to DataFrame\n",
    "df_key_metrics = pd.DataFrame(all_key_metrics)\n",
    "df_key_metrics.columns = [col.lower().replace(' ', '_') for col in df_key_metrics.columns]"
   ]
  },
  {
   "cell_type": "code",
   "execution_count": 38,
   "id": "af263eba-326b-4efa-836f-0e4d9b4384f1",
   "metadata": {},
   "outputs": [
    {
     "name": "stdout",
     "output_type": "stream",
     "text": [
      "  symbol        date fiscalyear period reportedcurrency     marketcap  \\\n",
      "0     HD  2025-02-02       2024     FY              USD  4.046724e+11   \n",
      "1     HD  2024-01-28       2023     FY              USD  3.553443e+11   \n",
      "2     HD  2023-01-29       2022     FY              USD  3.211533e+11   \n",
      "3     HD  2022-01-30       2021     FY              USD  3.867969e+11   \n",
      "4     HD  2021-01-31       2020     FY              USD  2.900552e+11   \n",
      "\n",
      "   enterprisevalue  evtosales  evtooperatingcashflow  evtofreecashflow  ...  \\\n",
      "0     4.653034e+11   2.917007              23.488309         28.502505  ...   \n",
      "1     4.038273e+11   2.645117              19.073649         22.502357  ...   \n",
      "2     3.687603e+11   2.342778              25.231631         32.077269  ...   \n",
      "3     4.307229e+11   2.849507              25.992573         30.754939  ...   \n",
      "4     3.255822e+11   2.464478              17.282349         19.881667  ...   \n",
      "\n",
      "   averageinventory  daysofsalesoutstanding  daysofpayablesoutstanding  \\\n",
      "0       22213500000               11.219047                  41.027531   \n",
      "1       22931000000                7.956560                  36.019477   \n",
      "2       23477000000                7.691753                  39.920621   \n",
      "3       19347500000                8.272789                  48.977124   \n",
      "4       15579000000                8.266445                  48.548426   \n",
      "\n",
      "   daysofinventoryoutstanding  operatingcycle  cashconversioncycle  \\\n",
      "0                   80.594458       91.813505            50.785973   \n",
      "1                   75.275934       83.232494            47.213017   \n",
      "2                   86.818542       94.510295            54.589674   \n",
      "3                   80.287266       88.560056            39.582931   \n",
      "4                   69.551497       77.817942            29.269516   \n",
      "\n",
      "   freecashflowtoequity  freecashflowtofirm  tangibleassetvalue  \\\n",
      "0          -44306000000        2.159083e+10        -21818000000   \n",
      "1          -30537000000        1.824175e+10        -11017000000   \n",
      "2          -36111000000        9.150682e+09         -5882000000   \n",
      "3          -29921000000        2.266306e+10         -9145000000   \n",
      "4          -19151000000        1.003115e+10         -3827000000   \n",
      "\n",
      "   netcurrentassetvalue  \n",
      "0          -57796000000  \n",
      "1          -45711000000  \n",
      "2          -42412000000  \n",
      "3          -44517000000  \n",
      "4          -38805000000  \n",
      "\n",
      "[5 rows x 47 columns]\n"
     ]
    }
   ],
   "source": [
    "print(df_key_metrics.head())"
   ]
  },
  {
   "cell_type": "code",
   "execution_count": 16,
   "id": "cdfba757-3261-4898-a01c-9b0232cba7e8",
   "metadata": {},
   "outputs": [
    {
     "name": "stdout",
     "output_type": "stream",
     "text": [
      "Index(['symbol', 'date', 'fiscalyear', 'period', 'reportedcurrency',\n",
      "       'marketcap', 'enterprisevalue', 'evtosales', 'evtooperatingcashflow',\n",
      "       'evtofreecashflow', 'evtoebitda', 'netdebttoebitda', 'currentratio',\n",
      "       'incomequality', 'grahamnumber', 'grahamnetnet', 'taxburden',\n",
      "       'interestburden', 'workingcapital', 'investedcapital', 'returnonassets',\n",
      "       'operatingreturnonassets', 'returnontangibleassets', 'returnonequity',\n",
      "       'returnoninvestedcapital', 'returnoncapitalemployed', 'earningsyield',\n",
      "       'freecashflowyield', 'capextooperatingcashflow', 'capextodepreciation',\n",
      "       'capextorevenue', 'salesgeneralandadministrativetorevenue',\n",
      "       'researchanddevelopementtorevenue', 'stockbasedcompensationtorevenue',\n",
      "       'intangiblestototalassets', 'averagereceivables', 'averagepayables',\n",
      "       'averageinventory', 'daysofsalesoutstanding',\n",
      "       'daysofpayablesoutstanding', 'daysofinventoryoutstanding',\n",
      "       'operatingcycle', 'cashconversioncycle', 'freecashflowtoequity',\n",
      "       'freecashflowtofirm', 'tangibleassetvalue', 'netcurrentassetvalue'],\n",
      "      dtype='object')\n"
     ]
    }
   ],
   "source": [
    "print(df_key_metrics.columns)"
   ]
  },
  {
   "cell_type": "code",
   "execution_count": 39,
   "id": "113faaf5-c89a-48f4-a2b3-4aecbee158aa",
   "metadata": {},
   "outputs": [],
   "source": [
    "df_key_metrics.to_csv('home_improvement_keymetrics.csv', index=False)"
   ]
  },
  {
   "cell_type": "markdown",
   "id": "5df53d2b-aa74-4971-ae5c-2a463558e264",
   "metadata": {},
   "source": [
    "Extract company ratios from API and save to csv file. "
   ]
  },
  {
   "cell_type": "code",
   "execution_count": 17,
   "id": "7f152b46-ac31-424e-87fc-ffcfdd80f986",
   "metadata": {},
   "outputs": [],
   "source": [
    "all_finance_ratio= []\n",
    "\n",
    "\n",
    "\n",
    "for ticker in tickers:\n",
    "    url = f'https://financialmodelingprep.com/stable/ratios?symbol={ticker}&apikey={api_key}'\n",
    "    response = requests.get(url)\n",
    "    data = response.json()\n",
    "    if data:\n",
    "        all_finance_ratio.extend(data)\n",
    "\n",
    "# Convert to DataFrame\n",
    "df_finance_ratios= pd.DataFrame(all_finance_ratio)\n",
    "df_finance_ratios.columns = [col.lower().replace(' ', '_') for col in df_finance_ratios.columns]"
   ]
  },
  {
   "cell_type": "code",
   "execution_count": 40,
   "id": "856c1f60-7915-41f1-9222-d8b3a8c3f24d",
   "metadata": {},
   "outputs": [
    {
     "name": "stdout",
     "output_type": "stream",
     "text": [
      "  symbol        date fiscalyear period reportedcurrency  grossprofitmargin  \\\n",
      "0     HD  2025-02-02       2024     FY              USD           0.334190   \n",
      "1     HD  2024-01-28       2023     FY              USD           0.333794   \n",
      "2     HD  2023-01-29       2022     FY              USD           0.335305   \n",
      "3     HD  2022-01-30       2021     FY              USD           0.336286   \n",
      "4     HD  2021-01-31       2020     FY              USD           0.339513   \n",
      "\n",
      "   ebitmargin  ebitdamargin  operatingprofitmargin  pretaxprofitmargin  ...  \\\n",
      "0    0.136207      0.159453               0.134947            0.121657  ...   \n",
      "1    0.143231      0.164500               0.142066            0.130505  ...   \n",
      "2    0.152723      0.171973               0.152723            0.142799  ...   \n",
      "3    0.152424      0.171649               0.152424            0.143804  ...   \n",
      "4    0.138354      0.157778               0.138354            0.128514  ...   \n",
      "\n",
      "   operatingcashflowpershare  capexpershare  freecashflowpershare  \\\n",
      "0                  20.010101       3.520202             16.489899   \n",
      "1                  21.193193       3.229229             17.963964   \n",
      "2                  14.300391       3.051859             11.248532   \n",
      "3                  15.722011       2.434535             13.287476   \n",
      "4                  17.540968       2.293296             15.247672   \n",
      "\n",
      "   netincomeperebt  ebtperebit  pricetofairvalue  debttomarketcap  \\\n",
      "0         0.762960    0.901514         60.944639         0.131917   \n",
      "1         0.760038    0.918622        340.368103         0.124136   \n",
      "2         0.761000    0.935022        205.603892         0.134493   \n",
      "3         0.755992    0.943446       -228.064222         0.103636   \n",
      "4         0.757804    0.928876         87.922152         0.128382   \n",
      "\n",
      "   effectivetaxrate  enterprisevaluemultiple  dividendpershare  \n",
      "0          0.237040                18.293823          9.019192  \n",
      "1          0.239962                16.079768          8.391391  \n",
      "2          0.239000                13.622974          7.621331  \n",
      "3          0.244008                16.600745          6.627135  \n",
      "4          0.242196                15.619947          6.006518  \n",
      "\n",
      "[5 rows x 64 columns]\n"
     ]
    }
   ],
   "source": [
    "print(df_finance_ratios.head())"
   ]
  },
  {
   "cell_type": "code",
   "execution_count": 41,
   "id": "94c67dbc-92a4-4c78-8a26-ab6999ab0d7a",
   "metadata": {},
   "outputs": [],
   "source": [
    "df_finance_ratios.to_csv('home_improvement_financeratios.csv', index=False)"
   ]
  },
  {
   "cell_type": "markdown",
   "id": "8c6d5a66-f017-45a3-8743-c56f2ad72329",
   "metadata": {},
   "source": [
    "Extract company cash flow statements from API and save to csv file. "
   ]
  },
  {
   "cell_type": "code",
   "execution_count": 19,
   "id": "7130d0b6-38ea-4874-aedb-569a8249fa86",
   "metadata": {},
   "outputs": [],
   "source": [
    "all_cash_flows= []\n",
    "\n",
    "for ticker in tickers:\n",
    "    url = f'https://financialmodelingprep.com/stable/cash-flow-statement?symbol={ticker}&apikey={api_key}'\n",
    "    response = requests.get(url)\n",
    "    data = response.json()\n",
    "    if data:\n",
    "        all_cash_flows.extend(data)\n",
    "\n",
    "# Convert to DataFrame\n",
    "df_cash_flows = pd.DataFrame(all_cash_flows)\n",
    "df_cash_flows.columns = [col.lower().replace(' ', '_') for col in df_cash_flows.columns]\n",
    "\n"
   ]
  },
  {
   "cell_type": "code",
   "execution_count": 42,
   "id": "e87d30b9-6da7-44d7-a5af-00c339fa4650",
   "metadata": {},
   "outputs": [
    {
     "name": "stdout",
     "output_type": "stream",
     "text": [
      "         date symbol reportedcurrency         cik  filingdate  \\\n",
      "0  2025-01-31     HD              USD  0000354950  2025-03-21   \n",
      "1  2024-01-31     HD              USD  0000354950  2024-03-13   \n",
      "2  2023-01-31     HD              USD  0000354950  2023-03-15   \n",
      "3  2022-01-31     HD              USD  0000354950  2022-03-23   \n",
      "4  2021-01-31     HD              USD  0000354950  2021-03-24   \n",
      "\n",
      "          accepteddate fiscalyear period    netincome  \\\n",
      "0  2025-03-20 18:36:42       2024     FY  14806000000   \n",
      "1  2024-03-13 16:31:59       2023     FY  15143000000   \n",
      "2  2023-03-15 16:22:15       2022     FY  17105000000   \n",
      "3  2022-03-23 16:25:53       2021     FY  16433000000   \n",
      "4  2021-03-24 16:46:14       2020     FY  12866000000   \n",
      "\n",
      "   depreciationandamortization  ...  netcashprovidedbyfinancingactivities  \\\n",
      "0                   3761000000  ...                            -694000000   \n",
      "1                   3247000000  ...                          -15443000000   \n",
      "2                   2975000000  ...                          -10993000000   \n",
      "3                   2862000000  ...                          -19120000000   \n",
      "4                   2519000000  ...                           -2983000000   \n",
      "\n",
      "   effectofforexchangesoncash  netchangeincash  cashatendofperiod  \\\n",
      "0                  -186000000      -2101000000         1659000000   \n",
      "1                     3000000       1003000000         3760000000   \n",
      "2                   -68000000        414000000         2757000000   \n",
      "3                   -34000000      -5552000000         2343000000   \n",
      "4                    76000000       5762000000         7895000000   \n",
      "\n",
      "   cashatbeginningofperiod  operatingcashflow  capitalexpenditure  \\\n",
      "0               3760000000        19810000000         -3485000000   \n",
      "1               2757000000        21172000000         -3226000000   \n",
      "2               2343000000        14615000000         -3119000000   \n",
      "3               7895000000        16571000000         -2566000000   \n",
      "4               2133000000        18839000000         -2463000000   \n",
      "\n",
      "   freecashflow  incometaxespaid  interestpaid  \n",
      "0   16325000000       3653000000    2199000000  \n",
      "1   17946000000       5023000000    1809000000  \n",
      "2   11496000000       5435000000    1449000000  \n",
      "3   14005000000       5504000000    1269000000  \n",
      "4   16376000000       4654000000    1241000000  \n",
      "\n",
      "[5 rows x 47 columns]\n"
     ]
    }
   ],
   "source": [
    "print(df_cash_flows.head())"
   ]
  },
  {
   "cell_type": "code",
   "execution_count": 21,
   "id": "01406d39-3a8d-4dbf-ad6a-14dac7dde98c",
   "metadata": {},
   "outputs": [
    {
     "name": "stdout",
     "output_type": "stream",
     "text": [
      "Index(['date', 'symbol', 'reportedcurrency', 'cik', 'filingdate',\n",
      "       'accepteddate', 'fiscalyear', 'period', 'netincome',\n",
      "       'depreciationandamortization', 'deferredincometax',\n",
      "       'stockbasedcompensation', 'changeinworkingcapital',\n",
      "       'accountsreceivables', 'inventory', 'accountspayables',\n",
      "       'otherworkingcapital', 'othernoncashitems',\n",
      "       'netcashprovidedbyoperatingactivities',\n",
      "       'investmentsinpropertyplantandequipment', 'acquisitionsnet',\n",
      "       'purchasesofinvestments', 'salesmaturitiesofinvestments',\n",
      "       'otherinvestingactivities', 'netcashprovidedbyinvestingactivities',\n",
      "       'netdebtissuance', 'longtermnetdebtissuance',\n",
      "       'shorttermnetdebtissuance', 'netstockissuance',\n",
      "       'netcommonstockissuance', 'commonstockissuance',\n",
      "       'commonstockrepurchased', 'netpreferredstockissuance',\n",
      "       'netdividendspaid', 'commondividendspaid', 'preferreddividendspaid',\n",
      "       'otherfinancingactivities', 'netcashprovidedbyfinancingactivities',\n",
      "       'effectofforexchangesoncash', 'netchangeincash', 'cashatendofperiod',\n",
      "       'cashatbeginningofperiod', 'operatingcashflow', 'capitalexpenditure',\n",
      "       'freecashflow', 'incometaxespaid', 'interestpaid'],\n",
      "      dtype='object')\n"
     ]
    }
   ],
   "source": [
    "print(df_cash_flows.columns)"
   ]
  },
  {
   "cell_type": "code",
   "execution_count": 43,
   "id": "eedd25eb-4718-40e1-bc68-03a1cbd849fe",
   "metadata": {},
   "outputs": [],
   "source": [
    "df_cash_flows.to_csv('home_improvement_cashflows.csv', index=False)"
   ]
  },
  {
   "cell_type": "markdown",
   "id": "ddf2fa66-ca21-487a-9f82-e4c7ff37f798",
   "metadata": {},
   "source": [
    "Extract company cash flow statements from API and save to csv file. "
   ]
  },
  {
   "cell_type": "code",
   "execution_count": 22,
   "id": "bf8fc8ad-5727-415a-a632-954b4f111075",
   "metadata": {},
   "outputs": [],
   "source": [
    "all_cash_growth= []\n",
    "\n",
    "for ticker in tickers:\n",
    "    url = f'https://financialmodelingprep.com/stable/cash-flow-statement-growth?symbol={ticker}&apikey={api_key}'\n",
    "    response = requests.get(url)\n",
    "    data = response.json()\n",
    "    if data:\n",
    "        all_cash_growth.extend(data)\n",
    "\n",
    "# Convert to DataFrame\n",
    "df_cash_growth = pd.DataFrame(all_cash_growth)\n",
    "df_cash_growth.columns = [col.lower().replace(' ', '_') for col in df_cash_growth.columns]\n"
   ]
  },
  {
   "cell_type": "code",
   "execution_count": 44,
   "id": "ad8bcb77-f0a7-4c61-897a-79eec58fbe70",
   "metadata": {},
   "outputs": [
    {
     "name": "stdout",
     "output_type": "stream",
     "text": [
      "  symbol        date fiscalyear period reportedcurrency  growthnetincome  \\\n",
      "0     HD  2025-02-02       2024     FY              USD        -0.022255   \n",
      "1     HD  2024-01-28       2023     FY              USD        -0.114703   \n",
      "2     HD  2023-01-29       2022     FY              USD         0.040893   \n",
      "3     HD  2022-01-30       2021     FY              USD         0.277242   \n",
      "4     HD  2021-01-31       2020     FY              USD         0.144458   \n",
      "\n",
      "   growthdepreciationandamortization  growthdeferredincometax  \\\n",
      "0                           0.158300                 0.000000   \n",
      "1                           0.091429                 0.000000   \n",
      "2                           0.039483                 1.000000   \n",
      "3                           0.136165                 0.514938   \n",
      "4                           0.097125                -3.816832   \n",
      "\n",
      "   growthstockbasedcompensation  growthchangeinworkingcapital  ...  \\\n",
      "0                      0.163158                     -0.667625  ...   \n",
      "1                      0.038251                      1.342183  ...   \n",
      "2                     -0.082707                     -0.838506  ...   \n",
      "3                      0.287097                     -2.097916  ...   \n",
      "4                      0.235060                     11.569930  ...   \n",
      "\n",
      "   growthoperatingcashflow  growthcapitalexpenditure  growthfreecashflow  \\\n",
      "0                -0.064330                 -0.080285           -0.090327   \n",
      "1                 0.448649                 -0.034306            0.561065   \n",
      "2                -0.118038                 -0.215511           -0.179150   \n",
      "3                -0.120389                 -0.041819           -0.144785   \n",
      "4                 0.372805                  0.080284            0.482662   \n",
      "\n",
      "   growthnetdebtissuance  growthlongtermnetdebtissuance  \\\n",
      "0              11.140884                      10.704420   \n",
      "1              -0.788056                      -0.837340   \n",
      "2               0.376309                       2.076019   \n",
      "3              -0.392709                      -0.714088   \n",
      "4               1.058942                       1.153617   \n",
      "\n",
      "   growthshorttermnetdebtissuance  growthnetstockissuance  \\\n",
      "0                        0.000000                0.968054   \n",
      "1                        1.000000               -0.236163   \n",
      "2                       -2.000000                0.565670   \n",
      "3                        2.062628              -30.847312   \n",
      "4                       -1.668493                0.930441   \n",
      "\n",
      "   growthpreferreddividendspaid  growthincometaxespaid  growthinterestpaid  \n",
      "0                     -0.065132              -0.272745            0.215589  \n",
      "1                     -0.076261              -0.075805            0.248447  \n",
      "2                     -0.115104              -0.012536            0.141844  \n",
      "3                     -0.082778               0.182639            0.022562  \n",
      "4                     -0.082746               0.445342            0.116007  \n",
      "\n",
      "[5 rows x 42 columns]\n"
     ]
    }
   ],
   "source": [
    "print(df_cash_growth.head())"
   ]
  },
  {
   "cell_type": "code",
   "execution_count": 24,
   "id": "57b03e2c-f866-458c-9a8c-afb268dbb645",
   "metadata": {},
   "outputs": [
    {
     "name": "stdout",
     "output_type": "stream",
     "text": [
      "Index(['symbol', 'date', 'fiscalyear', 'period', 'reportedcurrency',\n",
      "       'growthnetincome', 'growthdepreciationandamortization',\n",
      "       'growthdeferredincometax', 'growthstockbasedcompensation',\n",
      "       'growthchangeinworkingcapital', 'growthaccountsreceivables',\n",
      "       'growthinventory', 'growthaccountspayables',\n",
      "       'growthotherworkingcapital', 'growthothernoncashitems',\n",
      "       'growthnetcashprovidedbyoperatingactivites',\n",
      "       'growthinvestmentsinpropertyplantandequipment', 'growthacquisitionsnet',\n",
      "       'growthpurchasesofinvestments', 'growthsalesmaturitiesofinvestments',\n",
      "       'growthotherinvestingactivites',\n",
      "       'growthnetcashusedforinvestingactivites', 'growthdebtrepayment',\n",
      "       'growthcommonstockissued', 'growthcommonstockrepurchased',\n",
      "       'growthdividendspaid', 'growthotherfinancingactivites',\n",
      "       'growthnetcashusedprovidedbyfinancingactivities',\n",
      "       'growtheffectofforexchangesoncash', 'growthnetchangeincash',\n",
      "       'growthcashatendofperiod', 'growthcashatbeginningofperiod',\n",
      "       'growthoperatingcashflow', 'growthcapitalexpenditure',\n",
      "       'growthfreecashflow', 'growthnetdebtissuance',\n",
      "       'growthlongtermnetdebtissuance', 'growthshorttermnetdebtissuance',\n",
      "       'growthnetstockissuance', 'growthpreferreddividendspaid',\n",
      "       'growthincometaxespaid', 'growthinterestpaid'],\n",
      "      dtype='object')\n"
     ]
    }
   ],
   "source": [
    "print(df_cash_growth.columns)"
   ]
  },
  {
   "cell_type": "code",
   "execution_count": 45,
   "id": "21c26e46-b68c-41a3-b166-c163ec2314d7",
   "metadata": {},
   "outputs": [],
   "source": [
    "df_cash_growth.to_csv('home_improvement_cashgrowth.csv', index=False)"
   ]
  },
  {
   "cell_type": "markdown",
   "id": "5626d4f9-7fd5-47c2-bcde-b9d02a78b454",
   "metadata": {},
   "source": [
    "Extract company cash growth data from API and save to csv file. "
   ]
  },
  {
   "cell_type": "code",
   "execution_count": 28,
   "id": "7c433b1e-a02e-4dff-995f-344a5e846dad",
   "metadata": {},
   "outputs": [],
   "source": [
    "all_finance_growth= []\n",
    "\n",
    "for ticker in tickers:\n",
    "    url = f'https://financialmodelingprep.com/stable/financial-growth?symbol={ticker}&apikey={api_key}'\n",
    "    response = requests.get(url)\n",
    "    data = response.json()\n",
    "    if data:\n",
    "        all_finance_growth.extend(data)\n",
    "\n",
    "# Convert to DataFrame\n",
    "df_finance_growth = pd.DataFrame(all_finance_growth)\n",
    "df_finance_growth.columns = [col.lower().replace(' ', '_') for col in df_finance_growth.columns]"
   ]
  },
  {
   "cell_type": "code",
   "execution_count": 46,
   "id": "b180ba87-3964-4d89-9d2d-2237704e25d0",
   "metadata": {},
   "outputs": [
    {
     "name": "stdout",
     "output_type": "stream",
     "text": [
      "  symbol        date fiscalyear period reportedcurrency  revenuegrowth  \\\n",
      "0     HD  2025-02-02       2024     FY              USD       0.044836   \n",
      "1     HD  2024-01-28       2023     FY              USD      -0.030076   \n",
      "2     HD  2023-01-29       2022     FY              USD       0.041321   \n",
      "3     HD  2022-01-30       2021     FY              USD       0.144175   \n",
      "4     HD  2021-01-31       2020     FY              USD       0.198548   \n",
      "\n",
      "   grossprofitgrowth  ebitgrowth  operatingincomegrowth  netincomegrowth  ...  \\\n",
      "0           0.046075   -0.006402              -0.007515        -0.022255  ...   \n",
      "1          -0.034446   -0.090353              -0.097758        -0.114703  ...   \n",
      "2           0.038283    0.043359               0.043359         0.040893  ...   \n",
      "3           0.133302    0.260532               0.260532         0.277242  ...   \n",
      "4           0.193788    0.153696               0.153696         0.144458  ...   \n",
      "\n",
      "   fiveyshareholdersequitygrowthpershare  \\\n",
      "0                               3.352641   \n",
      "1                               1.632703   \n",
      "2                               0.238258   \n",
      "3                              -1.456403   \n",
      "4                              -0.378950   \n",
      "\n",
      "   threeyshareholdersequitygrowthpershare  tenydividendpersharegrowthpershare  \\\n",
      "0                                5.168191                            3.769834   \n",
      "1                               -0.659782                            4.331134   \n",
      "2                                1.536109                            5.554432   \n",
      "3                                0.025796                            5.342883   \n",
      "4                                1.488622                            5.308949   \n",
      "\n",
      "   fiveydividendpersharegrowthpershare  threeydividendpersharegrowthpershare  \\\n",
      "0                             0.654578                              0.360949   \n",
      "1                             1.028276                              0.397048   \n",
      "2                             1.131512                              0.398139   \n",
      "3                             1.392699                              0.601839   \n",
      "4                             1.530625                              0.679886   \n",
      "\n",
      "   ebitdagrowth  growthcapitalexpenditure  \\\n",
      "0      0.012782                 -0.080285   \n",
      "1     -0.072223                 -0.034306   \n",
      "2      0.043282                 -0.215511   \n",
      "3      0.244771                 -0.041819   \n",
      "4      0.144520                  0.080284   \n",
      "\n",
      "   tenybottomlinenetincomegrowthpershare  \\\n",
      "0                               2.153748   \n",
      "1                               3.011212   \n",
      "2                               4.532183   \n",
      "3                               5.271767   \n",
      "4                               4.914392   \n",
      "\n",
      "   fiveybottomlinenetincomegrowthpershare  \\\n",
      "0                                0.454049   \n",
      "1                                0.549755   \n",
      "2                                1.284582   \n",
      "3                                1.408124   \n",
      "4                                1.182600   \n",
      "\n",
      "   threeybottomlinenetincomegrowthpershare  \n",
      "0                                -0.040762  \n",
      "1                                 0.265340  \n",
      "2                                 0.627229  \n",
      "3                                 0.594017  \n",
      "4                                 0.635211  \n",
      "\n",
      "[5 rows x 44 columns]\n"
     ]
    }
   ],
   "source": [
    "print(df_finance_growth.head())"
   ]
  },
  {
   "cell_type": "code",
   "execution_count": 29,
   "id": "78a4479e-84d1-4fee-9a45-d3aa8158365c",
   "metadata": {},
   "outputs": [
    {
     "name": "stdout",
     "output_type": "stream",
     "text": [
      "Index(['symbol', 'date', 'fiscalyear', 'period', 'reportedcurrency',\n",
      "       'revenuegrowth', 'grossprofitgrowth', 'ebitgrowth',\n",
      "       'operatingincomegrowth', 'netincomegrowth', 'epsgrowth',\n",
      "       'epsdilutedgrowth', 'weightedaveragesharesgrowth',\n",
      "       'weightedaveragesharesdilutedgrowth', 'dividendspersharegrowth',\n",
      "       'operatingcashflowgrowth', 'receivablesgrowth', 'inventorygrowth',\n",
      "       'assetgrowth', 'bookvaluepersharegrowth', 'debtgrowth',\n",
      "       'rdexpensegrowth', 'sgaexpensesgrowth', 'freecashflowgrowth',\n",
      "       'tenyrevenuegrowthpershare', 'fiveyrevenuegrowthpershare',\n",
      "       'threeyrevenuegrowthpershare', 'tenyoperatingcfgrowthpershare',\n",
      "       'fiveyoperatingcfgrowthpershare', 'threeyoperatingcfgrowthpershare',\n",
      "       'tenynetincomegrowthpershare', 'fiveynetincomegrowthpershare',\n",
      "       'threeynetincomegrowthpershare', 'tenyshareholdersequitygrowthpershare',\n",
      "       'fiveyshareholdersequitygrowthpershare',\n",
      "       'threeyshareholdersequitygrowthpershare',\n",
      "       'tenydividendpersharegrowthpershare',\n",
      "       'fiveydividendpersharegrowthpershare',\n",
      "       'threeydividendpersharegrowthpershare', 'ebitdagrowth',\n",
      "       'growthcapitalexpenditure', 'tenybottomlinenetincomegrowthpershare',\n",
      "       'fiveybottomlinenetincomegrowthpershare',\n",
      "       'threeybottomlinenetincomegrowthpershare'],\n",
      "      dtype='object')\n"
     ]
    }
   ],
   "source": [
    "print(df_finance_growth.columns)"
   ]
  },
  {
   "cell_type": "code",
   "execution_count": 47,
   "id": "913d3319-850d-4aa4-ad48-6b5d2c3958fa",
   "metadata": {},
   "outputs": [],
   "source": [
    "df_finance_growth.to_csv('home_improvement_financegrowth.csv', index=False)"
   ]
  },
  {
   "cell_type": "markdown",
   "id": "32909912-d90a-49c6-b943-b759c389a552",
   "metadata": {},
   "source": [
    "Extract balance sheet statement growth from API and save to csv file. "
   ]
  },
  {
   "cell_type": "code",
   "execution_count": 31,
   "id": "83ce7c2b-6f73-4678-9beb-24f4a771f88d",
   "metadata": {},
   "outputs": [],
   "source": [
    "all_balance_growth= []\n",
    "\n",
    "for ticker in tickers:\n",
    "    url = f'https://financialmodelingprep.com/stable/balance-sheet-statement-growth?symbol={ticker}&apikey={api_key}'\n",
    "    response = requests.get(url)\n",
    "    data = response.json()\n",
    "    if data:\n",
    "        all_balance_growth.extend(data)\n",
    "\n",
    "# Convert to DataFrame\n",
    "df_balance_growth = pd.DataFrame(all_balance_growth)\n",
    "df_balance_growth.columns = [col.lower().replace(' ', '_') for col in df_balance_growth.columns]"
   ]
  },
  {
   "cell_type": "code",
   "execution_count": 48,
   "id": "f15cb56d-ea91-433c-b942-767ce6222d89",
   "metadata": {},
   "outputs": [
    {
     "name": "stdout",
     "output_type": "stream",
     "text": [
      "  symbol        date fiscalyear period reportedcurrency  \\\n",
      "0     HD  2025-02-02       2024     FY              USD   \n",
      "1     HD  2024-01-28       2023     FY              USD   \n",
      "2     HD  2023-01-29       2022     FY              USD   \n",
      "3     HD  2022-01-30       2021     FY              USD   \n",
      "4     HD  2021-01-31       2020     FY              USD   \n",
      "\n",
      "   growthcashandcashequivalents  growthshortterminvestments  \\\n",
      "0                     -0.558777                         0.0   \n",
      "1                      0.363801                         0.0   \n",
      "2                      0.176697                         0.0   \n",
      "3                     -0.703230                         0.0   \n",
      "4                      2.701360                         0.0   \n",
      "\n",
      "   growthcashandshortterminvestments  growthnetreceivables  growthinventory  \\\n",
      "0                          -0.558777              0.473257         0.117992   \n",
      "1                           0.363801              0.003316        -0.157116   \n",
      "2                           0.176697             -0.031816         0.127696   \n",
      "3                          -0.703230              0.145053         0.327239   \n",
      "4                           2.701360              0.420703         0.144243   \n",
      "\n",
      "   ...  growthnetdebt  growthaccountsreceivables  growthotherreceivables  \\\n",
      "0  ...       0.250562                   0.568834                0.015652   \n",
      "1  ...       0.018401                  -0.024451                0.161616   \n",
      "2  ...       0.083800                  -0.027232               -0.057143   \n",
      "3  ...       0.236412                   0.137647                0.187783   \n",
      "4  ...       0.008030                   0.467204                0.201087   \n",
      "\n",
      "   growthprepaids  growthtotalpayables  growthotherpayables  \\\n",
      "0             0.0             0.274301             2.060797   \n",
      "1             0.0            -0.125364            -0.174740   \n",
      "2             0.0            -0.169132            -0.425447   \n",
      "3             0.0             0.150720             0.040331   \n",
      "4             0.0             0.488457             0.465152   \n",
      "\n",
      "   growthaccruedexpenses  growthcapitalleaseobligationscurrent  \\\n",
      "0               0.025312                              0.213333   \n",
      "1               0.080698                              0.111111   \n",
      "2              -0.074086                              0.138554   \n",
      "3               0.143142                              0.002415   \n",
      "4               0.324862                              0.000000   \n",
      "\n",
      "   growthadditionalpaidincapital  growthtreasurystock  \n",
      "0                       0.073781            -0.006281  \n",
      "1                       0.044076            -0.092488  \n",
      "2                       0.037916            -0.080501  \n",
      "3                       0.051300            -0.228003  \n",
      "4                       0.048996            -0.009157  \n",
      "\n",
      "[5 rows x 56 columns]\n"
     ]
    }
   ],
   "source": [
    "print(df_balance_growth.head())"
   ]
  },
  {
   "cell_type": "code",
   "execution_count": 49,
   "id": "0c764a97-bb2d-4a28-8c1e-0c8d7f2f0cec",
   "metadata": {},
   "outputs": [],
   "source": [
    "df_balance_growth.to_csv('home_improvement_balancegrowth.csv', index=False)"
   ]
  },
  {
   "cell_type": "markdown",
   "id": "6d6c42c4-ba45-49b7-bcf3-d1a623495da6",
   "metadata": {},
   "source": [
    "Extract geographic segementation data from API and save to csv file. "
   ]
  },
  {
   "cell_type": "code",
   "execution_count": 19,
   "id": "5e41d48a-c1b4-4452-829e-9d66afc83d40",
   "metadata": {},
   "outputs": [],
   "source": [
    "all_rev_geo= []\n",
    "\n",
    "for ticker in tickers:\n",
    "    url = f'https://financialmodelingprep.com/stable/revenue-geographic-segmentation?symbol={ticker}&apikey={api_key}'\n",
    "    response = requests.get(url)\n",
    "    data = response.json()\n",
    "    if data:\n",
    "        all_rev_geo.extend(data)\n",
    "\n",
    "# Convert to DataFrame\n",
    "df_rev_geo = pd.DataFrame(all_rev_geo)\n",
    "df_rev_geo.columns = [str(col).lower().replace(' ', '_') for col in df_rev_geo.columns]"
   ]
  },
  {
   "cell_type": "code",
   "execution_count": 21,
   "id": "d14e229a-fd6b-4384-8b54-6c4934b3fc2c",
   "metadata": {},
   "outputs": [],
   "source": [
    "df_rev_geo.to_csv('home_improvement_revgeo.csv', index=False)"
   ]
  },
  {
   "cell_type": "code",
   "execution_count": 20,
   "id": "9e33a3a2-d11f-46a2-8ff0-86072afa8e83",
   "metadata": {},
   "outputs": [
    {
     "name": "stdout",
     "output_type": "stream",
     "text": [
      "Index(['symbol', 'fiscalyear', 'period', 'reportedcurrency', 'date', 'data'], dtype='object')\n"
     ]
    }
   ],
   "source": [
    "print(df_rev_geo.columns)"
   ]
  },
  {
   "cell_type": "markdown",
   "id": "5f4a64d9-0861-4a8c-a4c7-e3153e5a3df5",
   "metadata": {},
   "source": [
    "Extract product segmentation data from API and save to csv file. "
   ]
  },
  {
   "cell_type": "code",
   "execution_count": 26,
   "id": "d61748a3-a6cf-4f54-b5c0-8ef7d6b29d3e",
   "metadata": {},
   "outputs": [],
   "source": [
    "all_rev_prod= []\n",
    "\n",
    "for ticker in tickers:\n",
    "    url = f'https://financialmodelingprep.com/stable/revenue-product-segmentation?symbol={ticker}&apikey={api_key}'\n",
    "    response = requests.get(url)\n",
    "    data = response.json()\n",
    "    if data:\n",
    "        all_rev_prod.extend(data)\n"
   ]
  },
  {
   "cell_type": "code",
   "execution_count": 28,
   "id": "ef7954c9-3c76-4300-ac85-e12aeab6b15d",
   "metadata": {},
   "outputs": [
    {
     "name": "stdout",
     "output_type": "stream",
     "text": [
      "  symbol  fiscalyear        date major_product_line    product_category  \\\n",
      "0     HD        2024  2025-02-02                  Y  Building Materials   \n",
      "1     HD        2024  2025-02-02                  Y           Hardlines   \n",
      "2     HD        2024  2025-02-02                  Y               Décor   \n",
      "3     HD        2024  2025-02-02                  N       Other Segment   \n",
      "4     HD        2023  2024-01-28                  Y  Building Materials   \n",
      "\n",
      "       revenue  \n",
      "0  52756000000  \n",
      "1  48562000000  \n",
      "2  51790000000  \n",
      "3   6406000000  \n",
      "4  52661000000  \n"
     ]
    }
   ],
   "source": [
    "records = []\n",
    "\n",
    "for entry in all_rev_prod:\n",
    "    symbol = entry.get('symbol')\n",
    "    fiscal_year = entry.get('fiscalYear')\n",
    "    date = entry.get('date')\n",
    "    data = entry.get('data', {})\n",
    "\n",
    "    for category, revenue in data.items():\n",
    "        # Flag if it's a major product line\n",
    "        is_major = 'Y' if 'Major Product Line' in category else 'N'\n",
    "\n",
    "        # Clean product category name\n",
    "        clean_category = category.replace('Major Product Line - ', '').replace('Major Product Line, ', '').strip()\n",
    "\n",
    "        records.append({\n",
    "            'symbol': symbol,\n",
    "            'fiscalYear': fiscal_year,\n",
    "            'date': date,\n",
    "            'major_product_line': is_major,\n",
    "            'product_category': clean_category,\n",
    "            'revenue': revenue\n",
    "        })\n",
    "\n",
    "# Convert to DataFrame\n",
    "df_clean = pd.DataFrame(records)\n",
    "\n",
    "# Clean column names\n",
    "df_clean.columns = [col.lower().replace(' ', '_') for col in df_clean.columns]\n",
    "\n",
    "# Preview\n",
    "print(df_clean.head())\n"
   ]
  },
  {
   "cell_type": "code",
   "execution_count": 32,
   "id": "386f73e8-547d-4780-84ba-3c386c405f7f",
   "metadata": {},
   "outputs": [],
   "source": [
    "df_clean.to_csv('home_improvement_revprod.csv', index=False)"
   ]
  },
  {
   "cell_type": "code",
   "execution_count": null,
   "id": "c4f3b89e-ce2c-416e-8aed-f20aeddb0cc5",
   "metadata": {},
   "outputs": [],
   "source": []
  }
 ],
 "metadata": {
  "kernelspec": {
   "display_name": "Python [conda env:base] *",
   "language": "python",
   "name": "conda-base-py"
  },
  "language_info": {
   "codemirror_mode": {
    "name": "ipython",
    "version": 3
   },
   "file_extension": ".py",
   "mimetype": "text/x-python",
   "name": "python",
   "nbconvert_exporter": "python",
   "pygments_lexer": "ipython3",
   "version": "3.13.5"
  }
 },
 "nbformat": 4,
 "nbformat_minor": 5
}
